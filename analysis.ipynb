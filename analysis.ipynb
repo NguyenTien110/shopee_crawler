{
 "cells": [
  {
   "cell_type": "code",
   "execution_count": 19,
   "id": "initial_id",
   "metadata": {
    "collapsed": true,
    "ExecuteTime": {
     "end_time": "2024-01-04T03:53:07.894537925Z",
     "start_time": "2024-01-04T03:53:05.512246901Z"
    }
   },
   "outputs": [
    {
     "name": "stdout",
     "output_type": "stream",
     "text": [
      "        catid  parent_catid                          name  \\\n",
      "0    11035567             0                   Men Clothes   \n",
      "1    11035568      11035567        Jackets, Coats & Vests   \n",
      "2    11035572      11035567        Suit Jackets & Blazers   \n",
      "3    11035578      11035567         Hoodies & Sweatshirts   \n",
      "4    11035583      11035567                         Jeans   \n",
      "..        ...           ...                           ...   \n",
      "309  11116487      11116484                      Handtool   \n",
      "310  11116485      11116484     Large tools and equipment   \n",
      "311  11116489      11116484  Electrical Circuitry & Parts   \n",
      "312  11116488      11116484     Building and construction   \n",
      "313  11116486      11116484                   Accessories   \n",
      "\n",
      "                      display_name                             image  \\\n",
      "0                   Thời Trang Nam  687f3967b7c2fe6a134a2c11894eea4b   \n",
      "1                         Áo Khoác  9251aba9f04e2f2407578c8bf1764666   \n",
      "2                Áo Vest và Blazer  0f42e45eb51e8e25e160eaab370b3477   \n",
      "3        Áo Hoodie, Áo Len & Áo Nỉ  db0745bb3e636523fd2617756fa8b09f   \n",
      "4                       Quần Jeans  5b0689b777035cfe7af759a707027b52   \n",
      "..                             ...                               ...   \n",
      "309                Dụng cụ cầm tay  e5bbe88d50fa708aaabf6bab0a6641b2   \n",
      "310   Dụng cụ điện và thiết bị lớn  4e2ddf616cedf5f1f5e5439976adb33e   \n",
      "311             Thiết bị mạch điện  eb200b37152ed3e6b0dcbb8169536f90   \n",
      "312              Vật liệu xây dựng  985efb4f0eadd25649b1f6ae1efcb371   \n",
      "313  Thiết bị và phụ kiện xây dựng  7605a30bf19b0fceb4a01863d4188a40   \n",
      "\n",
      "                     unselected_image                    selected_image  \\\n",
      "0    fe2d27d140e1f34855c1bfe3168c1b58  9131b98c529e7ccfffc36193432aa927   \n",
      "1                                None                              None   \n",
      "2                                None                              None   \n",
      "3                                None                              None   \n",
      "4                                None                              None   \n",
      "..                                ...                               ...   \n",
      "309                              None                              None   \n",
      "310                              None                              None   \n",
      "311                              None                              None   \n",
      "312                              None                              None   \n",
      "313                              None                              None   \n",
      "\n",
      "     level block_buyer_platform  children  \n",
      "0        1                 None       NaN  \n",
      "1        2                 None       NaN  \n",
      "2        2                 None       NaN  \n",
      "3        2                 None       NaN  \n",
      "4        2                 None       NaN  \n",
      "..     ...                  ...       ...  \n",
      "309      2                 None       NaN  \n",
      "310      2                 None       NaN  \n",
      "311      2                 None       NaN  \n",
      "312      2                 None       NaN  \n",
      "313      2                 None       NaN  \n",
      "\n",
      "[314 rows x 10 columns]\n",
      "2.342824935913086\n",
      "(145939, 148)\n"
     ]
    }
   ],
   "source": [
    "import json\n",
    "import time\n",
    "\n",
    "import pandas as pd\n",
    "\n",
    "list_data = []\n",
    "with open('data/category.json', 'r') as f:\n",
    "    data = json.loads(f.read())\n",
    "\n",
    "for d in data:\n",
    "    children = d.pop('children')\n",
    "    list_data.append(d)\n",
    "    list_data += children\n",
    "\n",
    "df_category = pd.DataFrame.from_records(list_data)\n",
    "df_category.drop(axis=1, columns=['children'])\n",
    "print(df_category)\n",
    "\n",
    "s = time.time()\n",
    "df_data = pd.read_csv('data/data.csv', engine='pyarrow', dtype_backend='pyarrow')\n",
    "print(time.time() - s)\n",
    "print(df_data.shape)\n"
   ]
  },
  {
   "cell_type": "code",
   "execution_count": 32,
   "outputs": [
    {
     "name": "stdout",
     "output_type": "stream",
     "text": [
      "8.728617906570435\n",
      "Số lượng sản phẩm transform trong một phút 1003176.0003389193\n"
     ]
    },
    {
     "data": {
      "text/plain": "                                             product_name  product_price  \\\n0       Tai nghe chơi game Bluetooth không dây TWS X15...     1800000000   \n1       [Mã SKAMSALE1023 giảm 100% đơn 99K] Loa blueto...     3900000000   \n2       Chuột Logitech G102 gaming chuột chơi game có ...     1000000000   \n3       bộ phát wifi tplink cục phát wifi tplink 2 râu...     2000000000   \n4       Tai Nghe Mèo P47M. Mz47 Bluetooth Chụp Tai , H...     1000000000   \n...                                                   ...            ...   \n145934  Găng tay da nam cảm ứng chống nước lót nỉ lông...     7900000000   \n145935  (HÀNG CHẤT) Mũ nồi nam trung niên [HÀNG LOẠI 1...     1000000000   \n145936  Găng tay nam mùa đông đi xem máy cảm ứng chống...     7900000000   \n145937  Mũ len nam nữ hàn quốc kèm khăn ống  qua...     5900000000   \n145938  Găng tay nam mùa đông, găng tay đi xe máy, bao...    14900000000   \n\n        product_rating     product_url  \\\n0             4.574758  29235600000000   \n1             4.474979  59342400000000   \n2             4.766753   2921000000000   \n3             4.766738  77700000000000   \n4             4.738113   8010000000000   \n...                ...             ...   \n145934        4.200000   6083000000000   \n145935        4.166667    103000000000   \n145936        4.769231   7663000000000   \n145937        4.500000    141600000000   \n145938        4.578125  95017300000000   \n\n                                          product_revenue       itemid  \\\n0       https://shopee.vn/Tai-nghe-ch%C6%A1i-game-Blue...  16788752180   \n1       https://shopee.vn/%5BM%C3%A3-SKAMSALE1023-gi%E...  17210358514   \n2       https://shopee.vn/Chu%E1%BB%99t-Logitech-G102-...  11388433423   \n3       https://shopee.vn/b%E1%BB%99-ph%C3%A1t-wifi-tp...   1036024433   \n4       https://shopee.vn/Tai-Nghe-M%C3%A8o-P47M.-Mz47...  20022102716   \n...                                                   ...          ...   \n145934  https://shopee.vn/G%C4%83ng-tay-da-nam-c%E1%BA...  19595767345   \n145935  https://shopee.vn/%28H%C3%80NG-CH%E1%BA%A4T%29...  25751233618   \n145936  https://shopee.vn/G%C4%83ng-tay-nam-m%C3%B9a-%...  18893135066   \n145937  https://shopee.vn/Mu%CC%83-len-nam-n%C6%B0%CC%...  25454586117   \n145938  https://shopee.vn/G%C4%83ng-tay-nam-m%C3%B9a-%...  12833368690   \n\n         catid  crawl_catid  catid_category  parent_catid  \\\n0       100535     11035954        11035954             0   \n1       100535     11035954        11035954             0   \n2       100644     11035954        11035954             0   \n3       100644     11035954        11035954             0   \n4       100535     11035954        11035954             0   \n...        ...          ...             ...           ...   \n145934  100009     11035627        11035627      11035567   \n145935  100009     11035627        11035627      11035567   \n145936  100009     11035627        11035627      11035567   \n145937  100009     11035627        11035627      11035567   \n145938  100009     11035627        11035627      11035567   \n\n                          name       display_name  \\\n0       Computer & Accessories  Máy Tính & Laptop   \n1       Computer & Accessories  Máy Tính & Laptop   \n2       Computer & Accessories  Máy Tính & Laptop   \n3       Computer & Accessories  Máy Tính & Laptop   \n4       Computer & Accessories  Máy Tính & Laptop   \n...                        ...                ...   \n145934  Additional Accessories       Phụ Kiện Nam   \n145935  Additional Accessories       Phụ Kiện Nam   \n145936  Additional Accessories       Phụ Kiện Nam   \n145937  Additional Accessories       Phụ Kiện Nam   \n145938  Additional Accessories       Phụ Kiện Nam   \n\n                                   image                  unselected_image  \\\n0       c3f3edfaa9f6dafc4825b77d8449999d  688db8a2d094a46c612389f24af4dfd8   \n1       c3f3edfaa9f6dafc4825b77d8449999d  688db8a2d094a46c612389f24af4dfd8   \n2       c3f3edfaa9f6dafc4825b77d8449999d  688db8a2d094a46c612389f24af4dfd8   \n3       c3f3edfaa9f6dafc4825b77d8449999d  688db8a2d094a46c612389f24af4dfd8   \n4       c3f3edfaa9f6dafc4825b77d8449999d  688db8a2d094a46c612389f24af4dfd8   \n...                                  ...                               ...   \n145934  8d2ff5f6c753fb2dc08e20c83a92fa03                              None   \n145935  8d2ff5f6c753fb2dc08e20c83a92fa03                              None   \n145936  8d2ff5f6c753fb2dc08e20c83a92fa03                              None   \n145937  8d2ff5f6c753fb2dc08e20c83a92fa03                              None   \n145938  8d2ff5f6c753fb2dc08e20c83a92fa03                              None   \n\n                          selected_image  level block_buyer_platform  children  \n0       c5f9534c31bcaa89f36b644454c8771b      1                 None       NaN  \n1       c5f9534c31bcaa89f36b644454c8771b      1                 None       NaN  \n2       c5f9534c31bcaa89f36b644454c8771b      1                 None       NaN  \n3       c5f9534c31bcaa89f36b644454c8771b      1                 None       NaN  \n4       c5f9534c31bcaa89f36b644454c8771b      1                 None       NaN  \n...                                  ...    ...                  ...       ...  \n145934                              None      2                 None       NaN  \n145935                              None      2                 None       NaN  \n145936                              None      2                 None       NaN  \n145937                              None      2                 None       NaN  \n145938                              None      2                 None       NaN  \n\n[145939 rows x 18 columns]",
      "text/html": "<div>\n<style scoped>\n    .dataframe tbody tr th:only-of-type {\n        vertical-align: middle;\n    }\n\n    .dataframe tbody tr th {\n        vertical-align: top;\n    }\n\n    .dataframe thead th {\n        text-align: right;\n    }\n</style>\n<table border=\"1\" class=\"dataframe\">\n  <thead>\n    <tr style=\"text-align: right;\">\n      <th></th>\n      <th>product_name</th>\n      <th>product_price</th>\n      <th>product_rating</th>\n      <th>product_url</th>\n      <th>product_revenue</th>\n      <th>itemid</th>\n      <th>catid</th>\n      <th>crawl_catid</th>\n      <th>catid_category</th>\n      <th>parent_catid</th>\n      <th>name</th>\n      <th>display_name</th>\n      <th>image</th>\n      <th>unselected_image</th>\n      <th>selected_image</th>\n      <th>level</th>\n      <th>block_buyer_platform</th>\n      <th>children</th>\n    </tr>\n  </thead>\n  <tbody>\n    <tr>\n      <th>0</th>\n      <td>Tai nghe chơi game Bluetooth không dây TWS X15...</td>\n      <td>1800000000</td>\n      <td>4.574758</td>\n      <td>29235600000000</td>\n      <td>https://shopee.vn/Tai-nghe-ch%C6%A1i-game-Blue...</td>\n      <td>16788752180</td>\n      <td>100535</td>\n      <td>11035954</td>\n      <td>11035954</td>\n      <td>0</td>\n      <td>Computer &amp; Accessories</td>\n      <td>Máy Tính &amp; Laptop</td>\n      <td>c3f3edfaa9f6dafc4825b77d8449999d</td>\n      <td>688db8a2d094a46c612389f24af4dfd8</td>\n      <td>c5f9534c31bcaa89f36b644454c8771b</td>\n      <td>1</td>\n      <td>None</td>\n      <td>NaN</td>\n    </tr>\n    <tr>\n      <th>1</th>\n      <td>[Mã SKAMSALE1023 giảm 100% đơn 99K] Loa blueto...</td>\n      <td>3900000000</td>\n      <td>4.474979</td>\n      <td>59342400000000</td>\n      <td>https://shopee.vn/%5BM%C3%A3-SKAMSALE1023-gi%E...</td>\n      <td>17210358514</td>\n      <td>100535</td>\n      <td>11035954</td>\n      <td>11035954</td>\n      <td>0</td>\n      <td>Computer &amp; Accessories</td>\n      <td>Máy Tính &amp; Laptop</td>\n      <td>c3f3edfaa9f6dafc4825b77d8449999d</td>\n      <td>688db8a2d094a46c612389f24af4dfd8</td>\n      <td>c5f9534c31bcaa89f36b644454c8771b</td>\n      <td>1</td>\n      <td>None</td>\n      <td>NaN</td>\n    </tr>\n    <tr>\n      <th>2</th>\n      <td>Chuột Logitech G102 gaming chuột chơi game có ...</td>\n      <td>1000000000</td>\n      <td>4.766753</td>\n      <td>2921000000000</td>\n      <td>https://shopee.vn/Chu%E1%BB%99t-Logitech-G102-...</td>\n      <td>11388433423</td>\n      <td>100644</td>\n      <td>11035954</td>\n      <td>11035954</td>\n      <td>0</td>\n      <td>Computer &amp; Accessories</td>\n      <td>Máy Tính &amp; Laptop</td>\n      <td>c3f3edfaa9f6dafc4825b77d8449999d</td>\n      <td>688db8a2d094a46c612389f24af4dfd8</td>\n      <td>c5f9534c31bcaa89f36b644454c8771b</td>\n      <td>1</td>\n      <td>None</td>\n      <td>NaN</td>\n    </tr>\n    <tr>\n      <th>3</th>\n      <td>bộ phát wifi tplink cục phát wifi tplink 2 râu...</td>\n      <td>2000000000</td>\n      <td>4.766738</td>\n      <td>77700000000000</td>\n      <td>https://shopee.vn/b%E1%BB%99-ph%C3%A1t-wifi-tp...</td>\n      <td>1036024433</td>\n      <td>100644</td>\n      <td>11035954</td>\n      <td>11035954</td>\n      <td>0</td>\n      <td>Computer &amp; Accessories</td>\n      <td>Máy Tính &amp; Laptop</td>\n      <td>c3f3edfaa9f6dafc4825b77d8449999d</td>\n      <td>688db8a2d094a46c612389f24af4dfd8</td>\n      <td>c5f9534c31bcaa89f36b644454c8771b</td>\n      <td>1</td>\n      <td>None</td>\n      <td>NaN</td>\n    </tr>\n    <tr>\n      <th>4</th>\n      <td>Tai Nghe Mèo P47M. Mz47 Bluetooth Chụp Tai , H...</td>\n      <td>1000000000</td>\n      <td>4.738113</td>\n      <td>8010000000000</td>\n      <td>https://shopee.vn/Tai-Nghe-M%C3%A8o-P47M.-Mz47...</td>\n      <td>20022102716</td>\n      <td>100535</td>\n      <td>11035954</td>\n      <td>11035954</td>\n      <td>0</td>\n      <td>Computer &amp; Accessories</td>\n      <td>Máy Tính &amp; Laptop</td>\n      <td>c3f3edfaa9f6dafc4825b77d8449999d</td>\n      <td>688db8a2d094a46c612389f24af4dfd8</td>\n      <td>c5f9534c31bcaa89f36b644454c8771b</td>\n      <td>1</td>\n      <td>None</td>\n      <td>NaN</td>\n    </tr>\n    <tr>\n      <th>...</th>\n      <td>...</td>\n      <td>...</td>\n      <td>...</td>\n      <td>...</td>\n      <td>...</td>\n      <td>...</td>\n      <td>...</td>\n      <td>...</td>\n      <td>...</td>\n      <td>...</td>\n      <td>...</td>\n      <td>...</td>\n      <td>...</td>\n      <td>...</td>\n      <td>...</td>\n      <td>...</td>\n      <td>...</td>\n      <td>...</td>\n    </tr>\n    <tr>\n      <th>145934</th>\n      <td>Găng tay da nam cảm ứng chống nước lót nỉ lông...</td>\n      <td>7900000000</td>\n      <td>4.200000</td>\n      <td>6083000000000</td>\n      <td>https://shopee.vn/G%C4%83ng-tay-da-nam-c%E1%BA...</td>\n      <td>19595767345</td>\n      <td>100009</td>\n      <td>11035627</td>\n      <td>11035627</td>\n      <td>11035567</td>\n      <td>Additional Accessories</td>\n      <td>Phụ Kiện Nam</td>\n      <td>8d2ff5f6c753fb2dc08e20c83a92fa03</td>\n      <td>None</td>\n      <td>None</td>\n      <td>2</td>\n      <td>None</td>\n      <td>NaN</td>\n    </tr>\n    <tr>\n      <th>145935</th>\n      <td>(HÀNG CHẤT) Mũ nồi nam trung niên [HÀNG LOẠI 1...</td>\n      <td>1000000000</td>\n      <td>4.166667</td>\n      <td>103000000000</td>\n      <td>https://shopee.vn/%28H%C3%80NG-CH%E1%BA%A4T%29...</td>\n      <td>25751233618</td>\n      <td>100009</td>\n      <td>11035627</td>\n      <td>11035627</td>\n      <td>11035567</td>\n      <td>Additional Accessories</td>\n      <td>Phụ Kiện Nam</td>\n      <td>8d2ff5f6c753fb2dc08e20c83a92fa03</td>\n      <td>None</td>\n      <td>None</td>\n      <td>2</td>\n      <td>None</td>\n      <td>NaN</td>\n    </tr>\n    <tr>\n      <th>145936</th>\n      <td>Găng tay nam mùa đông đi xem máy cảm ứng chống...</td>\n      <td>7900000000</td>\n      <td>4.769231</td>\n      <td>7663000000000</td>\n      <td>https://shopee.vn/G%C4%83ng-tay-nam-m%C3%B9a-%...</td>\n      <td>18893135066</td>\n      <td>100009</td>\n      <td>11035627</td>\n      <td>11035627</td>\n      <td>11035567</td>\n      <td>Additional Accessories</td>\n      <td>Phụ Kiện Nam</td>\n      <td>8d2ff5f6c753fb2dc08e20c83a92fa03</td>\n      <td>None</td>\n      <td>None</td>\n      <td>2</td>\n      <td>None</td>\n      <td>NaN</td>\n    </tr>\n    <tr>\n      <th>145937</th>\n      <td>Mũ len nam nữ hàn quốc kèm khăn ống  qua...</td>\n      <td>5900000000</td>\n      <td>4.500000</td>\n      <td>141600000000</td>\n      <td>https://shopee.vn/Mu%CC%83-len-nam-n%C6%B0%CC%...</td>\n      <td>25454586117</td>\n      <td>100009</td>\n      <td>11035627</td>\n      <td>11035627</td>\n      <td>11035567</td>\n      <td>Additional Accessories</td>\n      <td>Phụ Kiện Nam</td>\n      <td>8d2ff5f6c753fb2dc08e20c83a92fa03</td>\n      <td>None</td>\n      <td>None</td>\n      <td>2</td>\n      <td>None</td>\n      <td>NaN</td>\n    </tr>\n    <tr>\n      <th>145938</th>\n      <td>Găng tay nam mùa đông, găng tay đi xe máy, bao...</td>\n      <td>14900000000</td>\n      <td>4.578125</td>\n      <td>95017300000000</td>\n      <td>https://shopee.vn/G%C4%83ng-tay-nam-m%C3%B9a-%...</td>\n      <td>12833368690</td>\n      <td>100009</td>\n      <td>11035627</td>\n      <td>11035627</td>\n      <td>11035567</td>\n      <td>Additional Accessories</td>\n      <td>Phụ Kiện Nam</td>\n      <td>8d2ff5f6c753fb2dc08e20c83a92fa03</td>\n      <td>None</td>\n      <td>None</td>\n      <td>2</td>\n      <td>None</td>\n      <td>NaN</td>\n    </tr>\n  </tbody>\n</table>\n<p>145939 rows × 18 columns</p>\n</div>"
     },
     "execution_count": 32,
     "metadata": {},
     "output_type": "execute_result"
    }
   ],
   "source": [
    "import urllib\n",
    "\n",
    "base_url = 'https://shopee.vn'\n",
    "s = time.time()\n",
    "def transform(r):\n",
    "    try:\n",
    "        return (r['name'],\n",
    "                r['price'],\n",
    "                json.loads(r['item_rating'].replace(\"'\", '\"'))['rating_star'],\n",
    "                r['price'] * r['historical_sold'],\n",
    "                base_url + '/' + urllib.parse.quote_plus(r['name'].replace(' ', '-') + f'-i.{r[\"shopid\"]}.{r[\"itemid\"]}'),\n",
    "                r['itemid'], r['catid'])\n",
    "    except Exception as e:\n",
    "        print(r.to_dict())\n",
    "        raise e\n",
    "\n",
    "df_data[['product_name', 'product_price', 'product_rating', 'product_url', 'product_revenue', 'itemid', 'catid']] = df_data.apply(\n",
    "    transform, axis=1, result_type='expand')\n",
    "df_formatted_data = df_data[['product_name', 'product_price', 'product_rating', 'product_url', 'product_revenue']]\n",
    "df_formatted_data.to_csv('data/formatted_data.csv', index=False)\n",
    "end = time.time()\n",
    "print(end - s)\n",
    "print(\"Số lượng sản phẩm transform trong một phút\", df_formatted_data.shape[0] / ((end - s) / 60))\n",
    "\n",
    "df_full_data = df_data[['product_name', 'product_price', 'product_rating', 'product_url', 'product_revenue', 'itemid', 'catid', 'crawl_catid']].copy()\n",
    "df_full_data = df_full_data.merge(df_category, how='left', left_on='crawl_catid', right_on='catid', suffixes=('', '_category'))\n",
    "df_full_data"
   ],
   "metadata": {
    "collapsed": false,
    "ExecuteTime": {
     "end_time": "2024-01-04T04:03:52.157889733Z",
     "start_time": "2024-01-04T04:03:43.361933921Z"
    }
   },
   "id": "39b1f7b0a5aa9387"
  },
  {
   "cell_type": "code",
   "execution_count": 43,
   "outputs": [
    {
     "name": "stdout",
     "output_type": "stream",
     "text": [
      "1. Số lượng mặt hàng Thời Trang Nam là: 10741 . Số lượng không trùng: 9911\n",
      "2. Số lượng mặt hàng Thời Trang Nữ là: 11000 . Số lượng không trùng: 10366\n",
      "3. Số lượng mặt hàng Điện Thoại & Phụ Kiện là: 5764 . Số lượng không trùng: 5212\n",
      "4. Số lượng mặt hàng Mẹ & Bé là: 7740 . Số lượng không trùng: 6913\n",
      "5. Số lượng mặt hàng Thiết Bị Điện Tử là: 5573 . Số lượng không trùng: 4987\n",
      "6. Số lượng mặt hàng Nhà Cửa & Đời Sống là: 8000 . Số lượng không trùng: 7345\n",
      "7. Số lượng mặt hàng Máy Tính & Laptop là: 5360 . Số lượng không trùng: 4660\n",
      "8. Số lượng mặt hàng Sắc Đẹp là: 6000 . Số lượng không trùng: 5361\n",
      "9. Số lượng mặt hàng Máy Ảnh & Máy Quay Phim là: 3480 . Số lượng không trùng: 2872\n",
      "----------------- WARNING ------------: số lượng mặt hàng không thỏa mãn yêu cầu đề bài\n",
      "10. Số lượng mặt hàng Sức Khỏe là: 4116 . Số lượng không trùng: 3699\n",
      "11. Số lượng mặt hàng Đồng Hồ là: 3021 . Số lượng không trùng: 2455\n",
      "----------------- WARNING ------------: số lượng mặt hàng không thỏa mãn yêu cầu đề bài\n",
      "12. Số lượng mặt hàng Giày Dép Nữ là: 4500 . Số lượng không trùng: 3987\n",
      "13. Số lượng mặt hàng Giày Dép Nam là: 4334 . Số lượng không trùng: 3803\n",
      "14. Số lượng mặt hàng Túi Ví Nữ là: 5332 . Số lượng không trùng: 4758\n",
      "15. Số lượng mặt hàng Thiết Bị Điện Gia Dụng là: 4500 . Số lượng không trùng: 3898\n",
      "16. Số lượng mặt hàng Phụ Kiện & Trang Sức Nữ là: 9070 . Số lượng không trùng: 8370\n",
      "17. Số lượng mặt hàng Thể Thao & Du Lịch là: 4500 . Số lượng không trùng: 3969\n",
      "18. Số lượng mặt hàng Bách Hóa Online là: 6873 . Số lượng không trùng: 6157\n",
      "19. Số lượng mặt hàng Ô Tô & Xe Máy & Xe Đạp là: 5930 . Số lượng không trùng: 5238\n",
      "20. Số lượng mặt hàng Nhà Sách Online là: 5000 . Số lượng không trùng: 4426\n",
      "21. Số lượng mặt hàng Balo & Túi Ví Nam là: 4996 . Số lượng không trùng: 4279\n",
      "22. Số lượng mặt hàng Thời Trang Trẻ Em là: 4304 . Số lượng không trùng: 3894\n",
      "23. Số lượng mặt hàng Đồ Chơi là: 3500 . Số lượng không trùng: 3103\n",
      "24. Số lượng mặt hàng Giặt Giũ & Chăm Sóc Nhà Cửa là: 4680 . Số lượng không trùng: 3836\n",
      "25. Số lượng mặt hàng Chăm Sóc Thú Cưng là: 4000 . Số lượng không trùng: 3414\n",
      "26. Số lượng mặt hàng Voucher & Dịch Vụ là: 625 . Số lượng không trùng: 384\n",
      "----------------- WARNING ------------: số lượng mặt hàng không thỏa mãn yêu cầu đề bài\n",
      "27. Số lượng mặt hàng Dụng cụ và thiết bị tiện ích là: 3000 . Số lượng không trùng: 2547\n",
      "----------------- WARNING ------------: số lượng mặt hàng không thỏa mãn yêu cầu đề bài\n"
     ]
    }
   ],
   "source": [
    "count = 0\n",
    "for i, row in df_category[df_category['level'] == 1].iterrows():\n",
    "    x = df_full_data[(df_full_data['catid_category'] == row['catid']) | (df_full_data['parent_catid'] == row['catid'])]\n",
    "    count += 1\n",
    "    print(f\"{count}. Số lượng mặt hàng {row['display_name']} là:\", x.shape[0], \". Số lượng không trùng:\", x['itemid'].drop_duplicates().shape[0])\n",
    "    if x['itemid'].drop_duplicates().shape[0] < 3000:\n",
    "        print(\"----------------- WARNING ------------: số lượng mặt hàng không thỏa mãn yêu cầu đề bài\")"
   ],
   "metadata": {
    "collapsed": false,
    "ExecuteTime": {
     "end_time": "2024-01-04T04:28:17.810528770Z",
     "start_time": "2024-01-04T04:28:17.701398085Z"
    }
   },
   "id": "33d8357c5647d5a0"
  },
  {
   "cell_type": "code",
   "execution_count": 39,
   "outputs": [
    {
     "name": "stdout",
     "output_type": "stream",
     "text": [
      "(145939, 18)\n"
     ]
    },
    {
     "data": {
      "text/plain": "             itemid   catid\n0       16788752180  100535\n1       17210358514  100535\n2       11388433423  100644\n3        1036024433  100644\n4       20022102716  100535\n...             ...     ...\n145934  19595767345  100009\n145935  25751233618  100009\n145936  18893135066  100009\n145937  25454586117  100009\n145938  12833368690  100009\n\n[126248 rows x 2 columns]",
      "text/html": "<div>\n<style scoped>\n    .dataframe tbody tr th:only-of-type {\n        vertical-align: middle;\n    }\n\n    .dataframe tbody tr th {\n        vertical-align: top;\n    }\n\n    .dataframe thead th {\n        text-align: right;\n    }\n</style>\n<table border=\"1\" class=\"dataframe\">\n  <thead>\n    <tr style=\"text-align: right;\">\n      <th></th>\n      <th>itemid</th>\n      <th>catid</th>\n    </tr>\n  </thead>\n  <tbody>\n    <tr>\n      <th>0</th>\n      <td>16788752180</td>\n      <td>100535</td>\n    </tr>\n    <tr>\n      <th>1</th>\n      <td>17210358514</td>\n      <td>100535</td>\n    </tr>\n    <tr>\n      <th>2</th>\n      <td>11388433423</td>\n      <td>100644</td>\n    </tr>\n    <tr>\n      <th>3</th>\n      <td>1036024433</td>\n      <td>100644</td>\n    </tr>\n    <tr>\n      <th>4</th>\n      <td>20022102716</td>\n      <td>100535</td>\n    </tr>\n    <tr>\n      <th>...</th>\n      <td>...</td>\n      <td>...</td>\n    </tr>\n    <tr>\n      <th>145934</th>\n      <td>19595767345</td>\n      <td>100009</td>\n    </tr>\n    <tr>\n      <th>145935</th>\n      <td>25751233618</td>\n      <td>100009</td>\n    </tr>\n    <tr>\n      <th>145936</th>\n      <td>18893135066</td>\n      <td>100009</td>\n    </tr>\n    <tr>\n      <th>145937</th>\n      <td>25454586117</td>\n      <td>100009</td>\n    </tr>\n    <tr>\n      <th>145938</th>\n      <td>12833368690</td>\n      <td>100009</td>\n    </tr>\n  </tbody>\n</table>\n<p>126248 rows × 2 columns</p>\n</div>"
     },
     "execution_count": 39,
     "metadata": {},
     "output_type": "execute_result"
    }
   ],
   "source": [
    "# df_full_data.groupby(['itemid'], as_index=False).size()\n",
    "print(df_full_data.shape)\n",
    "a = df_full_data[['itemid', 'catid']].drop_duplicates()\n",
    "a"
   ],
   "metadata": {
    "collapsed": false,
    "ExecuteTime": {
     "end_time": "2024-01-04T04:07:00.072969364Z",
     "start_time": "2024-01-04T04:07:00.011241305Z"
    }
   },
   "id": "ab0950f94e7c3efd"
  }
 ],
 "metadata": {
  "kernelspec": {
   "display_name": "Python 3",
   "language": "python",
   "name": "python3"
  },
  "language_info": {
   "codemirror_mode": {
    "name": "ipython",
    "version": 2
   },
   "file_extension": ".py",
   "mimetype": "text/x-python",
   "name": "python",
   "nbconvert_exporter": "python",
   "pygments_lexer": "ipython2",
   "version": "2.7.6"
  }
 },
 "nbformat": 4,
 "nbformat_minor": 5
}
